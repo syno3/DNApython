{
 "metadata": {
  "language_info": {
   "codemirror_mode": {
    "name": "ipython",
    "version": 3
   },
   "file_extension": ".py",
   "mimetype": "text/x-python",
   "name": "python",
   "nbconvert_exporter": "python",
   "pygments_lexer": "ipython3",
   "version": "3.9.5"
  },
  "orig_nbformat": 4,
  "kernelspec": {
   "name": "python3",
   "display_name": "Python 3.9.5 64-bit"
  },
  "interpreter": {
   "hash": "3a8c331c5c473a25d874c0b1b0857a15a3b1aa534532df681ba114b127ccb858"
  }
 },
 "nbformat": 4,
 "nbformat_minor": 2,
 "cells": [
  {
   "cell_type": "code",
   "execution_count": 1,
   "metadata": {},
   "outputs": [
    {
     "output_type": "display_data",
     "data": {
      "application/3dmoljs_load.v0": "<div id=\"3dmolviewer_16235828491065602\"  style=\"position: relative; width: 640px; height: 480px\">\n        <p id=\"3dmolwarning_16235828491065602\" style=\"background-color:#ffcccc;color:black\">You appear to be running in JupyterLab (or JavaScript failed to load for some other reason).  You need to install the 3dmol extension: <br>\n        <tt>jupyter labextension install jupyterlab_3dmol</tt></p>\n        </div>\n<script>\n\nvar loadScriptAsync = function(uri){\n  return new Promise((resolve, reject) => {\n    var tag = document.createElement('script');\n    tag.src = uri;\n    tag.async = true;\n    tag.onload = () => {\n      resolve();\n    };\n  var firstScriptTag = document.getElementsByTagName('script')[0];\n  firstScriptTag.parentNode.insertBefore(tag, firstScriptTag);\n});\n};\n\nif(typeof $3Dmolpromise === 'undefined') {\n$3Dmolpromise = null;\n  $3Dmolpromise = loadScriptAsync('https://3dmol.org/build/3Dmol.js');\n}\n\nvar viewer_16235828491065602 = null;\nvar warn = document.getElementById(\"3dmolwarning_16235828491065602\");\nif(warn) {\n    warn.parentNode.removeChild(warn);\n}\n$3Dmolpromise.then(function() {\nviewer_16235828491065602 = $3Dmol.createViewer($(\"#3dmolviewer_16235828491065602\"),{backgroundColor:\"white\"});\n$3Dmol.download(\"pdb:6LZG\", viewer_16235828491065602, {}, function() {\nviewer_16235828491065602.zoomTo();\n\tviewer_16235828491065602.setStyle({\"cartoon\": {\"color\": \"spectrum\"}});\nviewer_16235828491065602.render();\n})\n});\n</script>",
      "text/html": "<div id=\"3dmolviewer_16235828491065602\"  style=\"position: relative; width: 640px; height: 480px\">\n        <p id=\"3dmolwarning_16235828491065602\" style=\"background-color:#ffcccc;color:black\">You appear to be running in JupyterLab (or JavaScript failed to load for some other reason).  You need to install the 3dmol extension: <br>\n        <tt>jupyter labextension install jupyterlab_3dmol</tt></p>\n        </div>\n<script>\n\nvar loadScriptAsync = function(uri){\n  return new Promise((resolve, reject) => {\n    var tag = document.createElement('script');\n    tag.src = uri;\n    tag.async = true;\n    tag.onload = () => {\n      resolve();\n    };\n  var firstScriptTag = document.getElementsByTagName('script')[0];\n  firstScriptTag.parentNode.insertBefore(tag, firstScriptTag);\n});\n};\n\nif(typeof $3Dmolpromise === 'undefined') {\n$3Dmolpromise = null;\n  $3Dmolpromise = loadScriptAsync('https://3dmol.org/build/3Dmol.js');\n}\n\nvar viewer_16235828491065602 = null;\nvar warn = document.getElementById(\"3dmolwarning_16235828491065602\");\nif(warn) {\n    warn.parentNode.removeChild(warn);\n}\n$3Dmolpromise.then(function() {\nviewer_16235828491065602 = $3Dmol.createViewer($(\"#3dmolviewer_16235828491065602\"),{backgroundColor:\"white\"});\n$3Dmol.download(\"pdb:6LZG\", viewer_16235828491065602, {}, function() {\nviewer_16235828491065602.zoomTo();\n\tviewer_16235828491065602.setStyle({\"cartoon\": {\"color\": \"spectrum\"}});\nviewer_16235828491065602.render();\n})\n});\n</script>"
     },
     "metadata": {}
    }
   ],
   "source": [
    "### we visualize the corona virus\n",
    "import py3Dmol\n",
    "\n",
    "\n",
    "def visualize():\n",
    "    view = py3Dmol.view(query='pdb:6LZG')\n",
    "    view.setStyle({'cartoon':{'color':'spectrum'}})\n",
    "    view.show()\n",
    "visualize()"
   ]
  },
  {
   "cell_type": "code",
   "execution_count": null,
   "metadata": {},
   "outputs": [],
   "source": []
  }
 ]
}